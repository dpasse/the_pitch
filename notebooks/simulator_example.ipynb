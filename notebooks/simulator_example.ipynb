{
 "metadata": {
  "language_info": {
   "codemirror_mode": {
    "name": "ipython",
    "version": 3
   },
   "file_extension": ".py",
   "mimetype": "text/x-python",
   "name": "python",
   "nbconvert_exporter": "python",
   "pygments_lexer": "ipython3",
   "version": "3.8.5-final"
  },
  "orig_nbformat": 2,
  "kernelspec": {
   "name": "python37364bit3cf912283dc549d6bc11fd68faf51cdb",
   "display_name": "Python 3.7.3 64-bit",
   "language": "python"
  }
 },
 "nbformat": 4,
 "nbformat_minor": 2,
 "cells": [
  {
   "cell_type": "code",
   "execution_count": 1,
   "metadata": {},
   "outputs": [],
   "source": [
    "import os\n",
    "import sys\n",
    "\n",
    "sys.path.insert(0, '../src')\n",
    "\n",
    "from decimal import Decimal\n",
    "from datetime import datetime\n",
    "\n",
    "from the_pitch.data import Query\n",
    "from the_pitch.simulators import PitchSimulator, Scorer\n",
    "from the_pitch.strategies import StrategyFactory, StrategyType"
   ]
  },
  {
   "cell_type": "code",
   "execution_count": null,
   "metadata": {},
   "outputs": [],
   "source": []
  },
  {
   "cell_type": "code",
   "execution_count": 2,
   "metadata": {},
   "outputs": [],
   "source": [
    "symbols=['DAL', 'AAL', 'ALK', 'BA']\n",
    "\n",
    "if not os.path.exists('./data/airlines.csv'):\n",
    "    df = Query.get_pricing_data(source='yahoo', symbols=symbols, start='2017-01-01', end='2021-01-01')\n",
    "    df.to_csv('./data/airlines.csv')\n",
    "\n",
    "dataset = Query.load_dataset(csv = './data/airlines.csv', now='2018-06-01')"
   ]
  },
  {
   "cell_type": "code",
   "execution_count": 3,
   "metadata": {},
   "outputs": [],
   "source": [
    "simulator = PitchSimulator(dataset)"
   ]
  },
  {
   "cell_type": "code",
   "execution_count": null,
   "metadata": {},
   "outputs": [],
   "source": []
  },
  {
   "cell_type": "code",
   "execution_count": 4,
   "metadata": {},
   "outputs": [],
   "source": [
    "## get strategy, indicators\n",
    "strategy, indicators = StrategyFactory.create(\n",
    "    id='TS1',\n",
    "    symbols=symbols,\n",
    "    strategy_type=StrategyType.SMA50_X_SMA200,\n",
    ")\n",
    "\n",
    "## run simulator\n",
    "operations = simulator.run(\n",
    "    indicators=indicators,\n",
    "    strategies=[ strategy ]\n",
    ")"
   ]
  },
  {
   "cell_type": "code",
   "execution_count": null,
   "metadata": {},
   "outputs": [],
   "source": []
  },
  {
   "cell_type": "code",
   "execution_count": 5,
   "metadata": {},
   "outputs": [
    {
     "output_type": "execute_result",
     "data": {
      "text/plain": [
       "{'TS1': {'DAL': [<the_pitch.domain.position.Position at 0x11f8daeb0>,\n",
       "   <the_pitch.domain.position.Position at 0x108c7d610>,\n",
       "   <the_pitch.domain.position.Position at 0x11f733430>,\n",
       "   <the_pitch.domain.position.Position at 0x108c5d9d0>],\n",
       "  'ALK': [<the_pitch.domain.position.Position at 0x108c09f70>,\n",
       "   <the_pitch.domain.position.Position at 0x11f733970>,\n",
       "   <the_pitch.domain.position.Position at 0x11f9cb580>],\n",
       "  'BA': [<the_pitch.domain.position.Position at 0x11f8dad90>,\n",
       "   <the_pitch.domain.position.Position at 0x11f9cb5e0>],\n",
       "  'AAL': [<the_pitch.domain.position.Position at 0x108c5d1f0>]}}"
      ]
     },
     "metadata": {},
     "execution_count": 5
    }
   ],
   "source": [
    "operations"
   ]
  },
  {
   "cell_type": "code",
   "execution_count": 6,
   "metadata": {},
   "outputs": [
    {
     "output_type": "execute_result",
     "data": {
      "text/plain": [
       "{'TS1': {'DAL': Decimal('-22.11'),\n",
       "  'ALK': Decimal('-2.18'),\n",
       "  'BA': Decimal('-52.38'),\n",
       "  'AAL': Decimal('0.0')}}"
      ]
     },
     "metadata": {},
     "execution_count": 6
    }
   ],
   "source": [
    "scores = Scorer.score(operations)\n",
    "scores"
   ]
  },
  {
   "cell_type": "code",
   "execution_count": null,
   "metadata": {},
   "outputs": [],
   "source": []
  },
  {
   "cell_type": "code",
   "execution_count": 7,
   "metadata": {},
   "outputs": [
    {
     "output_type": "execute_result",
     "data": {
      "text/plain": [
       "{'TS1': {'DAL': Decimal('-22.11'),\n",
       "  'ALK': Decimal('-2.18'),\n",
       "  'BA': Decimal('-52.38'),\n",
       "  'AAL': Decimal('0.0')}}"
      ]
     },
     "metadata": {},
     "execution_count": 7
    }
   ],
   "source": [
    "## expected,\n",
    "{\n",
    "    'TS1': {\n",
    "        'DAL': Decimal('-22.11'),\n",
    "        'ALK': Decimal('-2.18'),\n",
    "        'BA': Decimal('-52.38'),\n",
    "        'AAL': Decimal('0.0')\n",
    "    }\n",
    "}"
   ]
  },
  {
   "cell_type": "code",
   "execution_count": null,
   "metadata": {},
   "outputs": [],
   "source": []
  }
 ]
}