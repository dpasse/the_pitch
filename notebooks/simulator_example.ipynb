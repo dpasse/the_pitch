{
 "metadata": {
  "language_info": {
   "codemirror_mode": {
    "name": "ipython",
    "version": 3
   },
   "file_extension": ".py",
   "mimetype": "text/x-python",
   "name": "python",
   "nbconvert_exporter": "python",
   "pygments_lexer": "ipython3",
   "version": "3.8.5-final"
  },
  "orig_nbformat": 2,
  "kernelspec": {
   "name": "python37364bit3cf912283dc549d6bc11fd68faf51cdb",
   "display_name": "Python 3.7.3 64-bit",
   "language": "python"
  }
 },
 "nbformat": 4,
 "nbformat_minor": 2,
 "cells": [
  {
   "cell_type": "code",
   "execution_count": 1,
   "metadata": {},
   "outputs": [],
   "source": [
    "import os\n",
    "import sys\n",
    "\n",
    "sys.path.insert(0, '../src')\n",
    "\n",
    "from decimal import Decimal\n",
    "from datetime import datetime\n",
    "\n",
    "from the_pitch.data import Query\n",
    "from the_pitch.simulators import PitchSimulator, Scorer\n",
    "from the_pitch.strategies import StrategyFactory"
   ]
  },
  {
   "cell_type": "code",
   "execution_count": null,
   "metadata": {},
   "outputs": [],
   "source": []
  },
  {
   "cell_type": "code",
   "execution_count": 2,
   "metadata": {},
   "outputs": [],
   "source": [
    "symbols=['DAL', 'AAL', 'ALK', 'BA']\n",
    "\n",
    "if not os.path.exists('./data/airlines.csv'):\n",
    "    df = Query.get_pricing_data(source='yahoo', symbols=symbols, start='2017-01-01', end='2021-01-01')\n",
    "    df.to_csv('./data/airlines.csv')\n",
    "\n",
    "dataset = Query.load_dataset(csv = './data/airlines.csv', now='2018-06-01')"
   ]
  },
  {
   "cell_type": "code",
   "execution_count": 3,
   "metadata": {},
   "outputs": [],
   "source": [
    "simulator = PitchSimulator(dataset)"
   ]
  },
  {
   "cell_type": "code",
   "execution_count": null,
   "metadata": {},
   "outputs": [],
   "source": []
  },
  {
   "cell_type": "code",
   "execution_count": 4,
   "metadata": {},
   "outputs": [],
   "source": [
    "## get strategy, indicators\n",
    "iterations = [\n",
    "    StrategyFactory.create_sma_cross_price(\n",
    "        id='TS1',\n",
    "        symbols=symbols,\n",
    "        period1=20,\n",
    "    ),\n",
    "    StrategyFactory.create_price_revert_to_sma(\n",
    "        id='TS2',\n",
    "        symbols=symbols,\n",
    "        period1=20,\n",
    "        pl=Decimal('.12'),\n",
    "        pm=Decimal('.05')\n",
    "    ),\n",
    "    StrategyFactory.create_sma_cross_sma(\n",
    "        id='TS3',\n",
    "        symbols=symbols,\n",
    "        period1=50,\n",
    "        period2=200\n",
    "    ),\n",
    "]\n",
    "\n",
    "runs = []\n",
    "for strategy, indicators in iterations:\n",
    "\n",
    "    ## run simulator\n",
    "    operations = simulator.run(\n",
    "        indicators=indicators,\n",
    "        strategies=[ strategy ]\n",
    "    )\n",
    "\n",
    "    runs.append(operations)"
   ]
  },
  {
   "cell_type": "code",
   "execution_count": null,
   "metadata": {},
   "outputs": [],
   "source": []
  },
  {
   "cell_type": "code",
   "execution_count": 5,
   "metadata": {},
   "outputs": [
    {
     "output_type": "stream",
     "name": "stdout",
     "text": [
      "{'TS1': {'DAL': Decimal('18.10'), 'AAL': Decimal('-8.58'), 'ALK': Decimal('11.40'), 'BA': Decimal('-144.48')}}\n{'TS2': {'AAL': Decimal('-21.14'), 'DAL': Decimal('19.75'), 'ALK': Decimal('25.40'), 'BA': Decimal('-52.75')}}\n{'TS3': {'DAL': Decimal('-9.95'), 'ALK': Decimal('-2.18'), 'BA': Decimal('-52.38'), 'AAL': Decimal('0.0')}}\n"
     ]
    }
   ],
   "source": [
    "for run in runs:\n",
    "    scores = Scorer.score(run)\n",
    "    print(scores)"
   ]
  },
  {
   "cell_type": "code",
   "execution_count": null,
   "metadata": {},
   "outputs": [],
   "source": []
  },
  {
   "cell_type": "code",
   "execution_count": 6,
   "metadata": {},
   "outputs": [
    {
     "output_type": "execute_result",
     "data": {
      "text/plain": [
       "{'TS1': {'DAL': Decimal('-22.11'),\n",
       "  'ALK': Decimal('-2.18'),\n",
       "  'BA': Decimal('-52.38'),\n",
       "  'AAL': Decimal('0.0')}}"
      ]
     },
     "metadata": {},
     "execution_count": 6
    }
   ],
   "source": [
    "## expected,\n",
    "{\n",
    "    'TS1': {\n",
    "        'DAL': Decimal('-9.95'),\n",
    "        'ALK': Decimal('-2.18'),\n",
    "        'BA': Decimal('-52.38'),\n",
    "        'AAL': Decimal('0.0')\n",
    "    }\n",
    "}"
   ]
  },
  {
   "cell_type": "code",
   "execution_count": null,
   "metadata": {},
   "outputs": [],
   "source": []
  }
 ]
}