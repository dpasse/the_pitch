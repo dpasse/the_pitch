{
 "metadata": {
  "language_info": {
   "codemirror_mode": {
    "name": "ipython",
    "version": 3
   },
   "file_extension": ".py",
   "mimetype": "text/x-python",
   "name": "python",
   "nbconvert_exporter": "python",
   "pygments_lexer": "ipython3",
   "version": "3.8.5-final"
  },
  "orig_nbformat": 2,
  "kernelspec": {
   "name": "python37364bit3cf912283dc549d6bc11fd68faf51cdb",
   "display_name": "Python 3.7.3 64-bit",
   "language": "python"
  }
 },
 "nbformat": 4,
 "nbformat_minor": 2,
 "cells": [
  {
   "cell_type": "code",
   "execution_count": 1,
   "metadata": {},
   "outputs": [],
   "source": [
    "import os\n",
    "import sys\n",
    "\n",
    "sys.path.insert(0, '../src')\n",
    "\n",
    "from decimal import Decimal\n",
    "from datetime import datetime\n",
    "\n",
    "from the_pitch.data import Query\n",
    "from the_pitch.simulators import PitchSimulator, Scorer\n",
    "from the_pitch.strategies import StrategyFactory"
   ]
  },
  {
   "cell_type": "code",
   "execution_count": null,
   "metadata": {},
   "outputs": [],
   "source": []
  },
  {
   "cell_type": "code",
   "execution_count": 2,
   "metadata": {},
   "outputs": [],
   "source": [
    "symbols=['DAL', 'AAL', 'ALK', 'BA']\n",
    "\n",
    "if not os.path.exists('./data/airlines.csv'):\n",
    "    df = Query.get_pricing_data(source='yahoo', symbols=symbols, start='2017-01-01', end='2021-01-01')\n",
    "    df.to_csv('./data/airlines.csv')\n",
    "\n",
    "dataset = Query.load_dataset(csv = './data/airlines.csv', now='2018-06-01')"
   ]
  },
  {
   "cell_type": "code",
   "execution_count": null,
   "metadata": {},
   "outputs": [],
   "source": []
  },
  {
   "cell_type": "code",
   "execution_count": 3,
   "metadata": {},
   "outputs": [],
   "source": [
    "simulator = PitchSimulator(dataset)"
   ]
  },
  {
   "cell_type": "code",
   "execution_count": null,
   "metadata": {},
   "outputs": [],
   "source": []
  },
  {
   "cell_type": "code",
   "execution_count": 4,
   "metadata": {},
   "outputs": [],
   "source": [
    "## get strategy, indicators\n",
    "iterations = [\n",
    "    StrategyFactory.create_sma_cross_price(\n",
    "        id='TS1',\n",
    "        symbols=symbols,\n",
    "        period1=20,\n",
    "    ),\n",
    "    StrategyFactory.create_price_revert_to_sma(\n",
    "        id='TS2',\n",
    "        symbols=symbols,\n",
    "        period1=20,\n",
    "        pl=Decimal('.12'),\n",
    "        pm=Decimal('.05')\n",
    "    ),\n",
    "    StrategyFactory.create_sma_cross_sma(\n",
    "        id='TS3',\n",
    "        symbols=symbols,\n",
    "        period1=50,\n",
    "        period2=200\n",
    "    ),\n",
    "]\n",
    "\n",
    "runs = []\n",
    "for strategy, indicators in iterations:\n",
    "\n",
    "    ## run simulator\n",
    "    operations = simulator.run(\n",
    "        indicators=indicators,\n",
    "        strategies=[ strategy ]\n",
    "    )\n",
    "\n",
    "    runs.append(operations)"
   ]
  },
  {
   "cell_type": "code",
   "execution_count": null,
   "metadata": {},
   "outputs": [],
   "source": []
  },
  {
   "cell_type": "code",
   "execution_count": 5,
   "metadata": {},
   "outputs": [
    {
     "output_type": "display_data",
     "data": {
      "text/plain": "[Position(\"TS1\", \"AAL\", AssetType(1), 1, 43.22, 2018-06-11 00:00:00, Side(1)),\n Position(\"TS1\", \"AAL\", AssetType(1), 1, 42.49, 2018-06-12 00:00:00, Side(2)),\n Position(\"TS1\", \"AAL\", AssetType(1), 1, 37.23, 2018-07-23 00:00:00, Side(1)),\n Position(\"TS1\", \"AAL\", AssetType(1), 1, 36.66, 2018-07-24 00:00:00, Side(2))]"
     },
     "metadata": {}
    },
    {
     "output_type": "display_data",
     "data": {
      "text/plain": "[Position(\"TS2\", \"AAL\", AssetType(1), 1, 32.93, 2018-10-09 00:00:00, Side(1)),\n Position(\"TS2\", \"AAL\", AssetType(1), 1, 34.43, 2018-10-31 00:00:00, Side(2)),\n Position(\"TS2\", \"AAL\", AssetType(1), 1, 30.29, 2018-12-21 00:00:00, Side(1)),\n Position(\"TS2\", \"AAL\", AssetType(1), 1, 33.43, 2019-01-18 00:00:00, Side(2))]"
     },
     "metadata": {}
    },
    {
     "output_type": "display_data",
     "data": {
      "text/plain": "[Position(\"TS3\", \"AAL\", AssetType(1), 1, 17.63, 2020-12-08 00:00:00, Side(1))]"
     },
     "metadata": {}
    }
   ],
   "source": [
    "display(\n",
    "    runs[0]['TS1']['AAL'][0:4]\n",
    ")\n",
    "display(\n",
    "    runs[1]['TS2']['AAL'][0:4]\n",
    ")\n",
    "display(\n",
    "    runs[2]['TS3']['AAL'][0:4]\n",
    ")"
   ]
  },
  {
   "cell_type": "code",
   "execution_count": null,
   "metadata": {},
   "outputs": [],
   "source": []
  },
  {
   "cell_type": "code",
   "execution_count": 6,
   "metadata": {},
   "outputs": [
    {
     "output_type": "stream",
     "name": "stdout",
     "text": [
      "{'TS1': {'DAL': Decimal('18.69'), 'AAL': Decimal('-4.88'), 'ALK': Decimal('-9.32'), 'BA': Decimal('-50.01')}}\n{'TS2': {'AAL': Decimal('5.03'), 'DAL': Decimal('-8.53'), 'ALK': Decimal('-8.65'), 'BA': Decimal('-140.89')}}\n{'TS3': {'DAL': Decimal('-11.02'), 'ALK': Decimal('-21.46'), 'BA': Decimal('-52.38'), 'AAL': Decimal('0.0')}}\n"
     ]
    }
   ],
   "source": [
    "for run in runs:\n",
    "    scores = Scorer.score(run)\n",
    "    print(scores)"
   ]
  },
  {
   "cell_type": "code",
   "execution_count": null,
   "metadata": {},
   "outputs": [],
   "source": []
  },
  {
   "cell_type": "code",
   "execution_count": 7,
   "metadata": {},
   "outputs": [
    {
     "output_type": "execute_result",
     "data": {
      "text/plain": [
       "{'TS3': {'DAL': Decimal('-11.02'),\n",
       "  'ALK': Decimal('-21.46'),\n",
       "  'BA': Decimal('-52.38'),\n",
       "  'AAL': Decimal('0.0')}}"
      ]
     },
     "metadata": {},
     "execution_count": 7
    }
   ],
   "source": [
    "## expected,\n",
    "{'TS1': {'DAL': Decimal('18.69'), 'AAL': Decimal('-4.88'), 'ALK': Decimal('-9.32'), 'BA': Decimal('-50.01')}}\n",
    "{'TS2': {'AAL': Decimal('5.03'), 'DAL': Decimal('-8.53'), 'ALK': Decimal('-8.65'), 'BA': Decimal('-140.89')}}\n",
    "{'TS3': {'DAL': Decimal('-11.02'), 'ALK': Decimal('-21.46'), 'BA': Decimal('-52.38'), 'AAL': Decimal('0.0')}}"
   ]
  },
  {
   "cell_type": "code",
   "execution_count": null,
   "metadata": {},
   "outputs": [],
   "source": []
  }
 ]
}